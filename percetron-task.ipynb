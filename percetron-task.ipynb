{
 "cells": [
  {
   "cell_type": "code",
   "execution_count": 4,
   "metadata": {},
   "outputs": [],
   "source": [
    "import numpy as np\n",
    "\n",
    "class Perceptron:\n",
    "    \n",
    "    def __init__(self, num_inputs, learning_rate=0.01):\n",
    "        self.weights = np.random.rand(num_inputs + 1)\n",
    "        self.learning_rate = learning_rate\n",
    "    \n",
    "    \n",
    "    \n",
    "    \n",
    "        \n",
    "    \n",
    "    \n",
    "    \n",
    "    \n",
    "   \n",
    "  "
   ]
  },
  {
   "cell_type": "code",
   "execution_count": 5,
   "metadata": {},
   "outputs": [],
   "source": [
    "def linear(self, inputs):\n",
    "        Z = inputs @ self.weights[1:].T + + self.weights[0]\n",
    "        return Z"
   ]
  },
  {
   "cell_type": "code",
   "execution_count": 6,
   "metadata": {},
   "outputs": [],
   "source": [
    "def Heaviside_step_fn(self, z):\n",
    "        if z>=0:\n",
    "            return 1\n",
    "        else:\n",
    "            return 0"
   ]
  },
  {
   "cell_type": "code",
   "execution_count": 7,
   "metadata": {},
   "outputs": [],
   "source": [
    "def predict(self, inputs):\n",
    "        Z = self.linear(inputs)\n",
    "        try:\n",
    "            pred = []\n",
    "            for z in Z:\n",
    "                pred.append(self.Heaviside_step_fn(z))\n",
    "        except:\n",
    "            return self.Heaviside_step_fn(Z)\n",
    "        return pred"
   ]
  },
  {
   "cell_type": "code",
   "execution_count": 8,
   "metadata": {},
   "outputs": [],
   "source": [
    "def loss(self, prediction, target):\n",
    "        loss = (prediction-target)\n",
    "        return loss"
   ]
  },
  {
   "cell_type": "code",
   "execution_count": 9,
   "metadata": {},
   "outputs": [],
   "source": [
    " def train(self, inputs, target):\n",
    "        prediction = self.predict(inputs)\n",
    "        error = self.loss(prediction, target)\n",
    "        self.weights[1:] += self.learning_rate * error * inputs\n",
    "        self.weights[0]  += self.learning_rate * error"
   ]
  },
  {
   "cell_type": "code",
   "execution_count": 10,
   "metadata": {},
   "outputs": [],
   "source": [
    "      \n",
    "    def fit(self, X, y, num_epochs):\n",
    "        for epoch in range(num_epochs):\n",
    "            for inputs, target in zip(X, y):\n",
    "                self.train(inputs, target)"
   ]
  },
  {
   "cell_type": "code",
   "execution_count": null,
   "metadata": {},
   "outputs": [],
   "source": [
    "def anD():\n",
    "    "
   ]
  },
  {
   "cell_type": "code",
   "execution_count": null,
   "metadata": {},
   "outputs": [],
   "source": [
    "def oR():"
   ]
  },
  {
   "cell_type": "code",
   "execution_count": null,
   "metadata": {},
   "outputs": [],
   "source": [
    "def Xor():"
   ]
  }
 ],
 "metadata": {
  "kernelspec": {
   "display_name": "anaconda-toolbox",
   "language": "python",
   "name": "python3"
  },
  "language_info": {
   "codemirror_mode": {
    "name": "ipython",
    "version": 3
   },
   "file_extension": ".py",
   "mimetype": "text/x-python",
   "name": "python",
   "nbconvert_exporter": "python",
   "pygments_lexer": "ipython3",
   "version": "3.12.5"
  }
 },
 "nbformat": 4,
 "nbformat_minor": 2
}
